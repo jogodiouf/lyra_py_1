{
 "cells": [
  {
   "cell_type": "markdown",
   "id": "ff96351b-5ed8-4934-849d-286d58ab6a33",
   "metadata": {},
   "source": [
    "# Data Science Tools and Ecosystem"
   ]
  },
  {
   "cell_type": "markdown",
   "id": "edfc2c1c-1ac6-45d2-bc49-3d3b7368ee8f",
   "metadata": {},
   "source": [
    "In this notebook, Data Science Tools and Ecosystem are summarized."
   ]
  },
  {
   "cell_type": "markdown",
   "id": "e1995ff8-b995-4aeb-b7af-4def9dbd82f5",
   "metadata": {},
   "source": [
    "**Objectives**:\n",
    "1. List popular languages for Data Science\n",
    "2. Some Commonly used libraries by Data Scientists\n",
    "3. Exemples of arithmetic expressions"
   ]
  },
  {
   "cell_type": "markdown",
   "id": "e9fa1ed7-e78a-4758-bd8a-5af94674ea11",
   "metadata": {},
   "source": [
    "Some of the popular languages that Data Scientists use are:\n",
    "1. Python\n",
    "2. R\n",
    "3. SQL"
   ]
  },
  {
   "cell_type": "markdown",
   "id": "68091a60-f6f5-41b9-ae8b-e4068d3a6532",
   "metadata": {},
   "source": [
    "Some of the commonly used libraries used by Data Scientists include:\n",
    "1. Pandas\n",
    "2. Numpy\n",
    "3. Matplotlib"
   ]
  },
  {
   "cell_type": "markdown",
   "id": "b66b55c8-3b57-4985-b6f5-64ca3b201069",
   "metadata": {},
   "source": [
    "| Data Science Tools |\n",
    "|--------------------|\n",
    "| Jupyter |\n",
    "| RStudio |\n",
    "| Spyder |\n"
   ]
  },
  {
   "cell_type": "markdown",
   "id": "2731a573-64ba-4042-b824-856c731cb63d",
   "metadata": {},
   "source": [
    "### Below are a few examples of evaluating arithmetic expressions in Python"
   ]
  },
  {
   "cell_type": "code",
   "execution_count": 8,
   "id": "1741ae44-d14c-4955-b078-915615a435a0",
   "metadata": {},
   "outputs": [
    {
     "data": {
      "text/plain": [
       "17"
      ]
     },
     "execution_count": 8,
     "metadata": {},
     "output_type": "execute_result"
    }
   ],
   "source": [
    "# This a simple arithmetic expression to mutiply then add integers\n",
    "(3 * 4) + 5"
   ]
  },
  {
   "cell_type": "code",
   "execution_count": 24,
   "id": "74822349-0292-4465-b701-1e64a2b11f0b",
   "metadata": {},
   "outputs": [
    {
     "name": "stdout",
     "output_type": "stream",
     "text": [
      "200 minutes = 3 hours and 20 minutes\n"
     ]
    }
   ],
   "source": [
    "# This will convert 200 minutes to hours by diving by 60\n",
    "def minute_to_hour_converter(m):\n",
    "    h = m//60\n",
    "    min = m % 60\n",
    "    if min % 60 > 0:\n",
    "        print(m, 'minutes =', h, 'hours and', min, 'minutes')  \n",
    "    else:\n",
    "        print(m, 'minutes =', h, 'hours')\n",
    "\n",
    "time_converter(200)"
   ]
  },
  {
   "cell_type": "markdown",
   "id": "b6a3afed-04d7-476a-8305-83ae4692f839",
   "metadata": {},
   "source": [
    "## Author\n",
    "Joe Diouf"
   ]
  },
  {
   "cell_type": "code",
   "execution_count": null,
   "id": "0458ee7c-3c12-463d-afe3-2d6503cae2b7",
   "metadata": {},
   "outputs": [],
   "source": []
  }
 ],
 "metadata": {
  "kernelspec": {
   "display_name": "Python 3 (ipykernel)",
   "language": "python",
   "name": "python3"
  },
  "language_info": {
   "codemirror_mode": {
    "name": "ipython",
    "version": 3
   },
   "file_extension": ".py",
   "mimetype": "text/x-python",
   "name": "python",
   "nbconvert_exporter": "python",
   "pygments_lexer": "ipython3",
   "version": "3.12.4"
  }
 },
 "nbformat": 4,
 "nbformat_minor": 5
}
